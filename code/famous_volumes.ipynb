{
 "cells": [
  {
   "cell_type": "code",
   "execution_count": 50,
   "metadata": {},
   "outputs": [
    {
     "name": "stderr",
     "output_type": "stream",
     "text": [
      "/var/folders/y_/ntyp977152n1_zbk9njzz1wh0000gn/T/ipykernel_68599/3991798157.py:6: MatplotlibDeprecationWarning:\n",
      "\n",
      "The seaborn styles shipped by Matplotlib are deprecated since 3.6, as they no longer correspond to the styles shipped by seaborn. However, they will remain available as 'seaborn-v0_8-<style>'. Alternatively, directly use the seaborn API instead.\n",
      "\n"
     ]
    }
   ],
   "source": [
    "import pandas as pd\n",
    "import numpy as np\n",
    "import matplotlib.pyplot as plt\n",
    "import matplotlib.patches as patches\n",
    "import plotly.express as px\n",
    "plt.style.use('seaborn-white')\n",
    "pd.set_option('display.max_rows', 500)\n",
    "import plotly.graph_objects as go"
   ]
  },
  {
   "cell_type": "code",
   "execution_count": 2,
   "metadata": {},
   "outputs": [],
   "source": [
    "volumes = pd.read_csv('../temporary/volumes_scores.csv')\n",
    "famous_books = pd.read_csv('../input/famous_books.csv')"
   ]
  },
  {
   "cell_type": "code",
   "execution_count": 13,
   "metadata": {},
   "outputs": [
    {
     "data": {
      "text/html": [
       "<div>\n",
       "<style scoped>\n",
       "    .dataframe tbody tr th:only-of-type {\n",
       "        vertical-align: middle;\n",
       "    }\n",
       "\n",
       "    .dataframe tbody tr th {\n",
       "        vertical-align: top;\n",
       "    }\n",
       "\n",
       "    .dataframe thead th {\n",
       "        text-align: right;\n",
       "    }\n",
       "</style>\n",
       "<table border=\"1\" class=\"dataframe\">\n",
       "  <thead>\n",
       "    <tr style=\"text-align: right;\">\n",
       "      <th></th>\n",
       "      <th>Religion</th>\n",
       "      <th>Science</th>\n",
       "      <th>Political Economy</th>\n",
       "      <th>HTID</th>\n",
       "      <th>industry_2</th>\n",
       "      <th>industry_3</th>\n",
       "      <th>industry_1643</th>\n",
       "      <th>percent_regression</th>\n",
       "      <th>percent_pessimism</th>\n",
       "      <th>percent_optimistic</th>\n",
       "      <th>...</th>\n",
       "      <th>industry_1643_percentile</th>\n",
       "      <th>optimistic_percentile</th>\n",
       "      <th>progress_percentile_original</th>\n",
       "      <th>progress_percentile_main</th>\n",
       "      <th>progress_percentile_secondary</th>\n",
       "      <th>pessimism_percentile</th>\n",
       "      <th>regression_percentile</th>\n",
       "      <th>progress_regression_percentile_original</th>\n",
       "      <th>progress_regression_percentile_main</th>\n",
       "      <th>progress_regression_percentile_secondary</th>\n",
       "    </tr>\n",
       "  </thead>\n",
       "  <tbody>\n",
       "    <tr>\n",
       "      <th>0</th>\n",
       "      <td>0.326938</td>\n",
       "      <td>0.164118</td>\n",
       "      <td>0.508944</td>\n",
       "      <td>uc1.b5568131</td>\n",
       "      <td>0.099625</td>\n",
       "      <td>0.101499</td>\n",
       "      <td>0.008745</td>\n",
       "      <td>0.0</td>\n",
       "      <td>0.000000</td>\n",
       "      <td>0.012804</td>\n",
       "      <td>...</td>\n",
       "      <td>0.200519</td>\n",
       "      <td>0.806701</td>\n",
       "      <td>0.565038</td>\n",
       "      <td>0.634123</td>\n",
       "      <td>0.695961</td>\n",
       "      <td>0.132469</td>\n",
       "      <td>0.490374</td>\n",
       "      <td>0.565904</td>\n",
       "      <td>0.635051</td>\n",
       "      <td>0.696901</td>\n",
       "    </tr>\n",
       "    <tr>\n",
       "      <th>1</th>\n",
       "      <td>0.410077</td>\n",
       "      <td>0.104824</td>\n",
       "      <td>0.485099</td>\n",
       "      <td>uc1.$b135547</td>\n",
       "      <td>0.151136</td>\n",
       "      <td>0.183048</td>\n",
       "      <td>0.022211</td>\n",
       "      <td>0.0</td>\n",
       "      <td>0.001021</td>\n",
       "      <td>0.016850</td>\n",
       "      <td>...</td>\n",
       "      <td>0.623771</td>\n",
       "      <td>0.886946</td>\n",
       "      <td>0.933051</td>\n",
       "      <td>0.956821</td>\n",
       "      <td>0.824733</td>\n",
       "      <td>0.485748</td>\n",
       "      <td>0.490374</td>\n",
       "      <td>0.933204</td>\n",
       "      <td>0.956907</td>\n",
       "      <td>0.825237</td>\n",
       "    </tr>\n",
       "    <tr>\n",
       "      <th>2</th>\n",
       "      <td>0.065574</td>\n",
       "      <td>0.629993</td>\n",
       "      <td>0.304434</td>\n",
       "      <td>hvd.32044106314859</td>\n",
       "      <td>0.000000</td>\n",
       "      <td>0.000000</td>\n",
       "      <td>0.000000</td>\n",
       "      <td>0.0</td>\n",
       "      <td>0.000000</td>\n",
       "      <td>0.000000</td>\n",
       "      <td>...</td>\n",
       "      <td>0.012232</td>\n",
       "      <td>0.071876</td>\n",
       "      <td>0.167479</td>\n",
       "      <td>0.218219</td>\n",
       "      <td>0.280592</td>\n",
       "      <td>0.132469</td>\n",
       "      <td>0.490374</td>\n",
       "      <td>0.171548</td>\n",
       "      <td>0.223892</td>\n",
       "      <td>0.287774</td>\n",
       "    </tr>\n",
       "    <tr>\n",
       "      <th>3</th>\n",
       "      <td>0.400788</td>\n",
       "      <td>0.038419</td>\n",
       "      <td>0.560793</td>\n",
       "      <td>uc1.$b29323</td>\n",
       "      <td>0.051752</td>\n",
       "      <td>0.055923</td>\n",
       "      <td>0.005905</td>\n",
       "      <td>0.0</td>\n",
       "      <td>0.003112</td>\n",
       "      <td>0.003986</td>\n",
       "      <td>...</td>\n",
       "      <td>0.107774</td>\n",
       "      <td>0.447035</td>\n",
       "      <td>0.410110</td>\n",
       "      <td>0.447422</td>\n",
       "      <td>0.280592</td>\n",
       "      <td>0.744927</td>\n",
       "      <td>0.490374</td>\n",
       "      <td>0.411487</td>\n",
       "      <td>0.449236</td>\n",
       "      <td>0.287774</td>\n",
       "    </tr>\n",
       "    <tr>\n",
       "      <th>4</th>\n",
       "      <td>0.028457</td>\n",
       "      <td>0.594895</td>\n",
       "      <td>0.376647</td>\n",
       "      <td>mdp.39015076816662</td>\n",
       "      <td>0.044464</td>\n",
       "      <td>0.059229</td>\n",
       "      <td>0.005407</td>\n",
       "      <td>0.0</td>\n",
       "      <td>0.000000</td>\n",
       "      <td>0.000000</td>\n",
       "      <td>...</td>\n",
       "      <td>0.095191</td>\n",
       "      <td>0.071876</td>\n",
       "      <td>0.969351</td>\n",
       "      <td>0.218219</td>\n",
       "      <td>0.280592</td>\n",
       "      <td>0.132469</td>\n",
       "      <td>0.490374</td>\n",
       "      <td>0.969425</td>\n",
       "      <td>0.223892</td>\n",
       "      <td>0.287774</td>\n",
       "    </tr>\n",
       "  </tbody>\n",
       "</table>\n",
       "<p>5 rows × 31 columns</p>\n",
       "</div>"
      ],
      "text/plain": [
       "   Religion   Science  Political Economy                HTID  industry_2  \\\n",
       "0  0.326938  0.164118           0.508944        uc1.b5568131    0.099625   \n",
       "1  0.410077  0.104824           0.485099        uc1.$b135547    0.151136   \n",
       "2  0.065574  0.629993           0.304434  hvd.32044106314859    0.000000   \n",
       "3  0.400788  0.038419           0.560793         uc1.$b29323    0.051752   \n",
       "4  0.028457  0.594895           0.376647  mdp.39015076816662    0.044464   \n",
       "\n",
       "   industry_3  industry_1643  percent_regression  percent_pessimism  \\\n",
       "0    0.101499       0.008745                 0.0           0.000000   \n",
       "1    0.183048       0.022211                 0.0           0.001021   \n",
       "2    0.000000       0.000000                 0.0           0.000000   \n",
       "3    0.055923       0.005905                 0.0           0.003112   \n",
       "4    0.059229       0.005407                 0.0           0.000000   \n",
       "\n",
       "   percent_optimistic  ...  industry_1643_percentile  optimistic_percentile  \\\n",
       "0            0.012804  ...                  0.200519               0.806701   \n",
       "1            0.016850  ...                  0.623771               0.886946   \n",
       "2            0.000000  ...                  0.012232               0.071876   \n",
       "3            0.003986  ...                  0.107774               0.447035   \n",
       "4            0.000000  ...                  0.095191               0.071876   \n",
       "\n",
       "   progress_percentile_original  progress_percentile_main  \\\n",
       "0                      0.565038                  0.634123   \n",
       "1                      0.933051                  0.956821   \n",
       "2                      0.167479                  0.218219   \n",
       "3                      0.410110                  0.447422   \n",
       "4                      0.969351                  0.218219   \n",
       "\n",
       "   progress_percentile_secondary  pessimism_percentile  regression_percentile  \\\n",
       "0                       0.695961              0.132469               0.490374   \n",
       "1                       0.824733              0.485748               0.490374   \n",
       "2                       0.280592              0.132469               0.490374   \n",
       "3                       0.280592              0.744927               0.490374   \n",
       "4                       0.280592              0.132469               0.490374   \n",
       "\n",
       "   progress_regression_percentile_original  \\\n",
       "0                                 0.565904   \n",
       "1                                 0.933204   \n",
       "2                                 0.171548   \n",
       "3                                 0.411487   \n",
       "4                                 0.969425   \n",
       "\n",
       "   progress_regression_percentile_main  \\\n",
       "0                             0.635051   \n",
       "1                             0.956907   \n",
       "2                             0.223892   \n",
       "3                             0.449236   \n",
       "4                             0.223892   \n",
       "\n",
       "   progress_regression_percentile_secondary  \n",
       "0                                  0.696901  \n",
       "1                                  0.825237  \n",
       "2                                  0.287774  \n",
       "3                                  0.287774  \n",
       "4                                  0.287774  \n",
       "\n",
       "[5 rows x 31 columns]"
      ]
     },
     "execution_count": 13,
     "metadata": {},
     "output_type": "execute_result"
    }
   ],
   "source": [
    "volumes.head()"
   ]
  },
  {
   "cell_type": "code",
   "execution_count": 5,
   "metadata": {},
   "outputs": [
    {
     "data": {
      "text/html": [
       "<div>\n",
       "<style scoped>\n",
       "    .dataframe tbody tr th:only-of-type {\n",
       "        vertical-align: middle;\n",
       "    }\n",
       "\n",
       "    .dataframe tbody tr th {\n",
       "        vertical-align: top;\n",
       "    }\n",
       "\n",
       "    .dataframe thead th {\n",
       "        text-align: right;\n",
       "    }\n",
       "</style>\n",
       "<table border=\"1\" class=\"dataframe\">\n",
       "  <thead>\n",
       "    <tr style=\"text-align: right;\">\n",
       "      <th></th>\n",
       "      <th>HTID</th>\n",
       "      <th>Title</th>\n",
       "      <th>Author</th>\n",
       "      <th>Category</th>\n",
       "    </tr>\n",
       "  </thead>\n",
       "  <tbody>\n",
       "    <tr>\n",
       "      <th>0</th>\n",
       "      <td>hvd.hn28bv</td>\n",
       "      <td>Origin of Species (1859)</td>\n",
       "      <td>Charles Darwin</td>\n",
       "      <td>Science</td>\n",
       "    </tr>\n",
       "    <tr>\n",
       "      <th>1</th>\n",
       "      <td>hvd.hn1hkq</td>\n",
       "      <td>Origin of Species (1859)</td>\n",
       "      <td>Charles Darwin</td>\n",
       "      <td>Science</td>\n",
       "    </tr>\n",
       "    <tr>\n",
       "      <th>2</th>\n",
       "      <td>hvd.32044010001600</td>\n",
       "      <td>Origin of Species (1859)</td>\n",
       "      <td>Charles Darwin</td>\n",
       "      <td>Science</td>\n",
       "    </tr>\n",
       "    <tr>\n",
       "      <th>3</th>\n",
       "      <td>hvd.32044106446602</td>\n",
       "      <td>Origin of Species (1859)</td>\n",
       "      <td>Charles Darwin</td>\n",
       "      <td>Science</td>\n",
       "    </tr>\n",
       "    <tr>\n",
       "      <th>4</th>\n",
       "      <td>hvd.hwxkp8</td>\n",
       "      <td>Origin of Species (1859)</td>\n",
       "      <td>Charles Darwin</td>\n",
       "      <td>Science</td>\n",
       "    </tr>\n",
       "  </tbody>\n",
       "</table>\n",
       "</div>"
      ],
      "text/plain": [
       "                 HTID                     Title          Author Category\n",
       "0          hvd.hn28bv  Origin of Species (1859)  Charles Darwin  Science\n",
       "1          hvd.hn1hkq  Origin of Species (1859)  Charles Darwin  Science\n",
       "2  hvd.32044010001600  Origin of Species (1859)  Charles Darwin  Science\n",
       "3  hvd.32044106446602  Origin of Species (1859)  Charles Darwin  Science\n",
       "4          hvd.hwxkp8  Origin of Species (1859)  Charles Darwin  Science"
      ]
     },
     "execution_count": 5,
     "metadata": {},
     "output_type": "execute_result"
    }
   ],
   "source": [
    "famous_books.head()"
   ]
  },
  {
   "cell_type": "code",
   "execution_count": 72,
   "metadata": {},
   "outputs": [],
   "source": [
    "#merge famous books with volumes used in analysis\n",
    "famous_merged = pd.merge(volumes[['HTID', 'Religion', 'Science', 'Political Economy']], famous_books, how = 'inner', on = 'HTID')"
   ]
  },
  {
   "cell_type": "markdown",
   "metadata": {},
   "source": []
  },
  {
   "cell_type": "code",
   "execution_count": 73,
   "metadata": {},
   "outputs": [],
   "source": [
    "famous_selected = famous_merged.groupby(['Title', 'Author'], as_index=False).agg(pd.DataFrame.sample)"
   ]
  },
  {
   "cell_type": "code",
   "execution_count": 74,
   "metadata": {},
   "outputs": [],
   "source": [
    "famous_selected['symbol'] = famous_selected.groupby('Category').cumcount()+1"
   ]
  },
  {
   "cell_type": "code",
   "execution_count": 35,
   "metadata": {},
   "outputs": [
    {
     "data": {
      "text/html": [
       "<div>\n",
       "<style scoped>\n",
       "    .dataframe tbody tr th:only-of-type {\n",
       "        vertical-align: middle;\n",
       "    }\n",
       "\n",
       "    .dataframe tbody tr th {\n",
       "        vertical-align: top;\n",
       "    }\n",
       "\n",
       "    .dataframe thead th {\n",
       "        text-align: right;\n",
       "    }\n",
       "</style>\n",
       "<table border=\"1\" class=\"dataframe\">\n",
       "  <thead>\n",
       "    <tr style=\"text-align: right;\">\n",
       "      <th></th>\n",
       "      <th>Title</th>\n",
       "      <th>Author</th>\n",
       "      <th>HTID</th>\n",
       "      <th>Religion</th>\n",
       "      <th>Science</th>\n",
       "      <th>Political Economy</th>\n",
       "      <th>Category</th>\n",
       "      <th>symbol</th>\n",
       "    </tr>\n",
       "  </thead>\n",
       "  <tbody>\n",
       "    <tr>\n",
       "      <th>0</th>\n",
       "      <td>Das Kapital (1867)</td>\n",
       "      <td>Karl Marx</td>\n",
       "      <td>mdp.39015004747005</td>\n",
       "      <td>0.120663</td>\n",
       "      <td>0.163374</td>\n",
       "      <td>0.715963</td>\n",
       "      <td>Political Economy</td>\n",
       "      <td>1</td>\n",
       "    </tr>\n",
       "    <tr>\n",
       "      <th>1</th>\n",
       "      <td>Experimental Researches in Electricity (1939</td>\n",
       "      <td>Michael Faraday</td>\n",
       "      <td>uc1.b4484853</td>\n",
       "      <td>0.092545</td>\n",
       "      <td>0.589006</td>\n",
       "      <td>0.318449</td>\n",
       "      <td>Science</td>\n",
       "      <td>1</td>\n",
       "    </tr>\n",
       "    <tr>\n",
       "      <th>2</th>\n",
       "      <td>Leviathan (1651)</td>\n",
       "      <td>Thomas Hobbes</td>\n",
       "      <td>mdp.39015011706424</td>\n",
       "      <td>0.550404</td>\n",
       "      <td>0.036858</td>\n",
       "      <td>0.408779</td>\n",
       "      <td>Political Economy</td>\n",
       "      <td>2</td>\n",
       "    </tr>\n",
       "    <tr>\n",
       "      <th>3</th>\n",
       "      <td>Opticks (1704)</td>\n",
       "      <td>Isaac Newton</td>\n",
       "      <td>uc2.ark+=13960=t3hx1mw1j</td>\n",
       "      <td>0.498272</td>\n",
       "      <td>0.229897</td>\n",
       "      <td>0.271831</td>\n",
       "      <td>Science</td>\n",
       "      <td>2</td>\n",
       "    </tr>\n",
       "    <tr>\n",
       "      <th>4</th>\n",
       "      <td>Origin of Species (1859)</td>\n",
       "      <td>Charles Darwin</td>\n",
       "      <td>nyp.33433007401924</td>\n",
       "      <td>0.159411</td>\n",
       "      <td>0.377961</td>\n",
       "      <td>0.470075</td>\n",
       "      <td>Science</td>\n",
       "      <td>3</td>\n",
       "    </tr>\n",
       "    <tr>\n",
       "      <th>5</th>\n",
       "      <td>Paradise Lost (1667)</td>\n",
       "      <td>John Milton</td>\n",
       "      <td>hvd.hxk4ke</td>\n",
       "      <td>0.585269</td>\n",
       "      <td>0.038141</td>\n",
       "      <td>0.354920</td>\n",
       "      <td>Religion</td>\n",
       "      <td>1</td>\n",
       "    </tr>\n",
       "    <tr>\n",
       "      <th>6</th>\n",
       "      <td>Philosophiae naturalis principia mathematica (...</td>\n",
       "      <td>Isaac Newton</td>\n",
       "      <td>uc1.31822005223383</td>\n",
       "      <td>0.780955</td>\n",
       "      <td>0.096988</td>\n",
       "      <td>0.122056</td>\n",
       "      <td>Science</td>\n",
       "      <td>4</td>\n",
       "    </tr>\n",
       "    <tr>\n",
       "      <th>7</th>\n",
       "      <td>Sermon's on Several Occasions (1746)</td>\n",
       "      <td>John Wesley</td>\n",
       "      <td>uc1.31175005561587</td>\n",
       "      <td>0.602960</td>\n",
       "      <td>0.032472</td>\n",
       "      <td>0.387710</td>\n",
       "      <td>Religion</td>\n",
       "      <td>2</td>\n",
       "    </tr>\n",
       "    <tr>\n",
       "      <th>8</th>\n",
       "      <td>The Book of Mormon (1841)</td>\n",
       "      <td>Joseph Smith</td>\n",
       "      <td>njp.32101079827208</td>\n",
       "      <td>0.604095</td>\n",
       "      <td>0.035446</td>\n",
       "      <td>0.371303</td>\n",
       "      <td>Religion</td>\n",
       "      <td>3</td>\n",
       "    </tr>\n",
       "    <tr>\n",
       "      <th>9</th>\n",
       "      <td>The Pilgrim's Progress (1678)</td>\n",
       "      <td>John Bunyan</td>\n",
       "      <td>iau.31858005743608</td>\n",
       "      <td>0.557763</td>\n",
       "      <td>0.024697</td>\n",
       "      <td>0.414571</td>\n",
       "      <td>Religion</td>\n",
       "      <td>4</td>\n",
       "    </tr>\n",
       "    <tr>\n",
       "      <th>10</th>\n",
       "      <td>The Theory of Moral Sentiments (1759)</td>\n",
       "      <td>Adam Smith</td>\n",
       "      <td>coo.31924054038454</td>\n",
       "      <td>0.430855</td>\n",
       "      <td>0.059478</td>\n",
       "      <td>0.463887</td>\n",
       "      <td>Political Economy</td>\n",
       "      <td>3</td>\n",
       "    </tr>\n",
       "    <tr>\n",
       "      <th>11</th>\n",
       "      <td>The Wealth of Nations (1776)</td>\n",
       "      <td>Adam Smith</td>\n",
       "      <td>coo.31924099385092</td>\n",
       "      <td>0.132765</td>\n",
       "      <td>0.074637</td>\n",
       "      <td>0.750224</td>\n",
       "      <td>Political Economy</td>\n",
       "      <td>4</td>\n",
       "    </tr>\n",
       "  </tbody>\n",
       "</table>\n",
       "</div>"
      ],
      "text/plain": [
       "                                                Title           Author  \\\n",
       "0                                  Das Kapital (1867)        Karl Marx   \n",
       "1        Experimental Researches in Electricity (1939  Michael Faraday   \n",
       "2                                    Leviathan (1651)    Thomas Hobbes   \n",
       "3                                      Opticks (1704)     Isaac Newton   \n",
       "4                            Origin of Species (1859)   Charles Darwin   \n",
       "5                                Paradise Lost (1667)      John Milton   \n",
       "6   Philosophiae naturalis principia mathematica (...     Isaac Newton   \n",
       "7                Sermon's on Several Occasions (1746)      John Wesley   \n",
       "8                           The Book of Mormon (1841)     Joseph Smith   \n",
       "9                       The Pilgrim's Progress (1678)      John Bunyan   \n",
       "10              The Theory of Moral Sentiments (1759)       Adam Smith   \n",
       "11                       The Wealth of Nations (1776)       Adam Smith   \n",
       "\n",
       "                        HTID  Religion   Science  Political Economy  \\\n",
       "0         mdp.39015004747005  0.120663  0.163374           0.715963   \n",
       "1               uc1.b4484853  0.092545  0.589006           0.318449   \n",
       "2         mdp.39015011706424  0.550404  0.036858           0.408779   \n",
       "3   uc2.ark+=13960=t3hx1mw1j  0.498272  0.229897           0.271831   \n",
       "4         nyp.33433007401924  0.159411  0.377961           0.470075   \n",
       "5                 hvd.hxk4ke  0.585269  0.038141           0.354920   \n",
       "6         uc1.31822005223383  0.780955  0.096988           0.122056   \n",
       "7         uc1.31175005561587  0.602960  0.032472           0.387710   \n",
       "8         njp.32101079827208  0.604095  0.035446           0.371303   \n",
       "9         iau.31858005743608  0.557763  0.024697           0.414571   \n",
       "10        coo.31924054038454  0.430855  0.059478           0.463887   \n",
       "11        coo.31924099385092  0.132765  0.074637           0.750224   \n",
       "\n",
       "             Category  symbol  \n",
       "0   Political Economy       1  \n",
       "1             Science       1  \n",
       "2   Political Economy       2  \n",
       "3             Science       2  \n",
       "4             Science       3  \n",
       "5            Religion       1  \n",
       "6             Science       4  \n",
       "7            Religion       2  \n",
       "8            Religion       3  \n",
       "9            Religion       4  \n",
       "10  Political Economy       3  \n",
       "11  Political Economy       4  "
      ]
     },
     "execution_count": 35,
     "metadata": {},
     "output_type": "execute_result"
    }
   ],
   "source": [
    "famous_selected"
   ]
  },
  {
   "cell_type": "code",
   "execution_count": 33,
   "metadata": {},
   "outputs": [
    {
     "data": {
      "text/plain": [
       "0     1\n",
       "1     1\n",
       "2     2\n",
       "3     2\n",
       "4     3\n",
       "5     1\n",
       "6     4\n",
       "7     2\n",
       "8     3\n",
       "9     4\n",
       "10    3\n",
       "11    4\n",
       "dtype: int64"
      ]
     },
     "execution_count": 33,
     "metadata": {},
     "output_type": "execute_result"
    }
   ],
   "source": [
    "famous_selected.groupby('Category').cumcount() + 1"
   ]
  },
  {
   "cell_type": "code",
   "execution_count": 30,
   "metadata": {},
   "outputs": [
    {
     "data": {
      "text/html": [
       "<div>\n",
       "<style scoped>\n",
       "    .dataframe tbody tr th:only-of-type {\n",
       "        vertical-align: middle;\n",
       "    }\n",
       "\n",
       "    .dataframe tbody tr th {\n",
       "        vertical-align: top;\n",
       "    }\n",
       "\n",
       "    .dataframe thead th {\n",
       "        text-align: right;\n",
       "    }\n",
       "</style>\n",
       "<table border=\"1\" class=\"dataframe\">\n",
       "  <thead>\n",
       "    <tr style=\"text-align: right;\">\n",
       "      <th></th>\n",
       "      <th>Title</th>\n",
       "      <th>Author</th>\n",
       "      <th>HTID</th>\n",
       "      <th>Religion</th>\n",
       "      <th>Science</th>\n",
       "      <th>Political Economy</th>\n",
       "      <th>Category</th>\n",
       "    </tr>\n",
       "  </thead>\n",
       "  <tbody>\n",
       "    <tr>\n",
       "      <th>0</th>\n",
       "      <td>Das Kapital (1867)</td>\n",
       "      <td>Karl Marx</td>\n",
       "      <td>mdp.39015004747005</td>\n",
       "      <td>0.120663</td>\n",
       "      <td>0.163374</td>\n",
       "      <td>0.715963</td>\n",
       "      <td>Political Economy</td>\n",
       "    </tr>\n",
       "    <tr>\n",
       "      <th>1</th>\n",
       "      <td>Experimental Researches in Electricity (1939</td>\n",
       "      <td>Michael Faraday</td>\n",
       "      <td>uc1.b4484853</td>\n",
       "      <td>0.092545</td>\n",
       "      <td>0.589006</td>\n",
       "      <td>0.318449</td>\n",
       "      <td>Science</td>\n",
       "    </tr>\n",
       "    <tr>\n",
       "      <th>2</th>\n",
       "      <td>Leviathan (1651)</td>\n",
       "      <td>Thomas Hobbes</td>\n",
       "      <td>mdp.39015011706424</td>\n",
       "      <td>0.550404</td>\n",
       "      <td>0.036858</td>\n",
       "      <td>0.408779</td>\n",
       "      <td>Political Economy</td>\n",
       "    </tr>\n",
       "    <tr>\n",
       "      <th>3</th>\n",
       "      <td>Opticks (1704)</td>\n",
       "      <td>Isaac Newton</td>\n",
       "      <td>uc2.ark+=13960=t3hx1mw1j</td>\n",
       "      <td>0.498272</td>\n",
       "      <td>0.229897</td>\n",
       "      <td>0.271831</td>\n",
       "      <td>Science</td>\n",
       "    </tr>\n",
       "    <tr>\n",
       "      <th>4</th>\n",
       "      <td>Origin of Species (1859)</td>\n",
       "      <td>Charles Darwin</td>\n",
       "      <td>nyp.33433007401924</td>\n",
       "      <td>0.159411</td>\n",
       "      <td>0.377961</td>\n",
       "      <td>0.470075</td>\n",
       "      <td>Science</td>\n",
       "    </tr>\n",
       "    <tr>\n",
       "      <th>5</th>\n",
       "      <td>Paradise Lost (1667)</td>\n",
       "      <td>John Milton</td>\n",
       "      <td>hvd.hxk4ke</td>\n",
       "      <td>0.585269</td>\n",
       "      <td>0.038141</td>\n",
       "      <td>0.354920</td>\n",
       "      <td>Religion</td>\n",
       "    </tr>\n",
       "    <tr>\n",
       "      <th>6</th>\n",
       "      <td>Philosophiae naturalis principia mathematica (...</td>\n",
       "      <td>Isaac Newton</td>\n",
       "      <td>uc1.31822005223383</td>\n",
       "      <td>0.780955</td>\n",
       "      <td>0.096988</td>\n",
       "      <td>0.122056</td>\n",
       "      <td>Science</td>\n",
       "    </tr>\n",
       "    <tr>\n",
       "      <th>7</th>\n",
       "      <td>Sermon's on Several Occasions (1746)</td>\n",
       "      <td>John Wesley</td>\n",
       "      <td>uc1.31175005561587</td>\n",
       "      <td>0.602960</td>\n",
       "      <td>0.032472</td>\n",
       "      <td>0.387710</td>\n",
       "      <td>Religion</td>\n",
       "    </tr>\n",
       "    <tr>\n",
       "      <th>8</th>\n",
       "      <td>The Book of Mormon (1841)</td>\n",
       "      <td>Joseph Smith</td>\n",
       "      <td>njp.32101079827208</td>\n",
       "      <td>0.604095</td>\n",
       "      <td>0.035446</td>\n",
       "      <td>0.371303</td>\n",
       "      <td>Religion</td>\n",
       "    </tr>\n",
       "    <tr>\n",
       "      <th>9</th>\n",
       "      <td>The Pilgrim's Progress (1678)</td>\n",
       "      <td>John Bunyan</td>\n",
       "      <td>iau.31858005743608</td>\n",
       "      <td>0.557763</td>\n",
       "      <td>0.024697</td>\n",
       "      <td>0.414571</td>\n",
       "      <td>Religion</td>\n",
       "    </tr>\n",
       "    <tr>\n",
       "      <th>10</th>\n",
       "      <td>The Theory of Moral Sentiments (1759)</td>\n",
       "      <td>Adam Smith</td>\n",
       "      <td>coo.31924054038454</td>\n",
       "      <td>0.430855</td>\n",
       "      <td>0.059478</td>\n",
       "      <td>0.463887</td>\n",
       "      <td>Political Economy</td>\n",
       "    </tr>\n",
       "    <tr>\n",
       "      <th>11</th>\n",
       "      <td>The Wealth of Nations (1776)</td>\n",
       "      <td>Adam Smith</td>\n",
       "      <td>coo.31924099385092</td>\n",
       "      <td>0.132765</td>\n",
       "      <td>0.074637</td>\n",
       "      <td>0.750224</td>\n",
       "      <td>Political Economy</td>\n",
       "    </tr>\n",
       "  </tbody>\n",
       "</table>\n",
       "</div>"
      ],
      "text/plain": [
       "                                                Title           Author  \\\n",
       "0                                  Das Kapital (1867)        Karl Marx   \n",
       "1        Experimental Researches in Electricity (1939  Michael Faraday   \n",
       "2                                    Leviathan (1651)    Thomas Hobbes   \n",
       "3                                      Opticks (1704)     Isaac Newton   \n",
       "4                            Origin of Species (1859)   Charles Darwin   \n",
       "5                                Paradise Lost (1667)      John Milton   \n",
       "6   Philosophiae naturalis principia mathematica (...     Isaac Newton   \n",
       "7                Sermon's on Several Occasions (1746)      John Wesley   \n",
       "8                           The Book of Mormon (1841)     Joseph Smith   \n",
       "9                       The Pilgrim's Progress (1678)      John Bunyan   \n",
       "10              The Theory of Moral Sentiments (1759)       Adam Smith   \n",
       "11                       The Wealth of Nations (1776)       Adam Smith   \n",
       "\n",
       "                        HTID  Religion   Science  Political Economy  \\\n",
       "0         mdp.39015004747005  0.120663  0.163374           0.715963   \n",
       "1               uc1.b4484853  0.092545  0.589006           0.318449   \n",
       "2         mdp.39015011706424  0.550404  0.036858           0.408779   \n",
       "3   uc2.ark+=13960=t3hx1mw1j  0.498272  0.229897           0.271831   \n",
       "4         nyp.33433007401924  0.159411  0.377961           0.470075   \n",
       "5                 hvd.hxk4ke  0.585269  0.038141           0.354920   \n",
       "6         uc1.31822005223383  0.780955  0.096988           0.122056   \n",
       "7         uc1.31175005561587  0.602960  0.032472           0.387710   \n",
       "8         njp.32101079827208  0.604095  0.035446           0.371303   \n",
       "9         iau.31858005743608  0.557763  0.024697           0.414571   \n",
       "10        coo.31924054038454  0.430855  0.059478           0.463887   \n",
       "11        coo.31924099385092  0.132765  0.074637           0.750224   \n",
       "\n",
       "             Category  \n",
       "0   Political Economy  \n",
       "1             Science  \n",
       "2   Political Economy  \n",
       "3             Science  \n",
       "4             Science  \n",
       "5            Religion  \n",
       "6             Science  \n",
       "7            Religion  \n",
       "8            Religion  \n",
       "9            Religion  \n",
       "10  Political Economy  \n",
       "11  Political Economy  "
      ]
     },
     "execution_count": 30,
     "metadata": {},
     "output_type": "execute_result"
    }
   ],
   "source": [
    "famous_selected"
   ]
  },
  {
   "cell_type": "code",
   "execution_count": null,
   "metadata": {},
   "outputs": [],
   "source": [
    "shape_map = {1:'square',2:'diamond',3:'x',4:'circle'}\n",
    "famous_selected = "
   ]
  },
  {
   "cell_type": "code",
   "execution_count": 75,
   "metadata": {},
   "outputs": [
    {
     "data": {
      "application/vnd.plotly.v1+json": {
       "config": {
        "plotlyServerURL": "https://plot.ly"
       },
       "data": [
        {
         "a": [
          0.1206629313425716
         ],
         "b": [
          0.7159630109702781
         ],
         "c": [
          0.163374057687149
         ],
         "hovertemplate": "Category=Political Economy<br>Title=Das Kapital (1867)<br>Religion=%{a}<br>Political Economy=%{b}<br>Science=%{c}<extra></extra>",
         "legendgroup": "Political Economy, Das Kapital (1867)",
         "marker": {
          "color": "#636efa",
          "symbol": "circle"
         },
         "mode": "markers",
         "name": "Political Economy, Das Kapital (1867)",
         "showlegend": true,
         "subplot": "ternary",
         "type": "scatterternary"
        },
        {
         "a": [
          0.5533929018006142
         ],
         "b": [
          0.4087789027415618
         ],
         "c": [
          0.0368581237252893
         ],
         "hovertemplate": "Category=Political Economy<br>Title=Leviathan (1651)<br>Religion=%{a}<br>Political Economy=%{b}<br>Science=%{c}<extra></extra>",
         "legendgroup": "Political Economy, Leviathan (1651)",
         "marker": {
          "color": "#636efa",
          "symbol": "diamond"
         },
         "mode": "markers",
         "name": "Political Economy, Leviathan (1651)",
         "showlegend": true,
         "subplot": "ternary",
         "type": "scatterternary"
        },
        {
         "a": [
          0.4329965006580326
         ],
         "b": [
          0.463887072494649
         ],
         "c": [
          0.1073809873969058
         ],
         "hovertemplate": "Category=Political Economy<br>Title=The Theory of Moral Sentiments (1759)<br>Religion=%{a}<br>Political Economy=%{b}<br>Science=%{c}<extra></extra>",
         "legendgroup": "Political Economy, The Theory of Moral Sentiments (1759)",
         "marker": {
          "color": "#636efa",
          "symbol": "diamond"
         },
         "mode": "markers",
         "name": "Political Economy, The Theory of Moral Sentiments (1759)",
         "showlegend": true,
         "subplot": "ternary",
         "type": "scatterternary"
        },
        {
         "a": [
          0.1139441578818071
         ],
         "b": [
          0.8067641183343561
         ],
         "c": [
          0.0586431714567339
         ],
         "hovertemplate": "Category=Political Economy<br>Title=The Wealth of Nations (1776)<br>Religion=%{a}<br>Political Economy=%{b}<br>Science=%{c}<extra></extra>",
         "legendgroup": "Political Economy, The Wealth of Nations (1776)",
         "marker": {
          "color": "#636efa",
          "symbol": "cross"
         },
         "mode": "markers",
         "name": "Political Economy, The Wealth of Nations (1776)",
         "showlegend": true,
         "subplot": "ternary",
         "type": "scatterternary"
        },
        {
         "a": [
          0.0925452372830947
         ],
         "b": [
          0.3184488374263994
         ],
         "c": [
          0.5890059252905051
         ],
         "hovertemplate": "Category=Science<br>Title=Experimental Researches in Electricity (1939<br>Religion=%{a}<br>Political Economy=%{b}<br>Science=%{c}<extra></extra>",
         "legendgroup": "Science, Experimental Researches in Electricity (1939",
         "marker": {
          "color": "#EF553B",
          "symbol": "square"
         },
         "mode": "markers",
         "name": "Science, Experimental Researches in Electricity (1939",
         "showlegend": true,
         "subplot": "ternary",
         "type": "scatterternary"
        },
        {
         "a": [
          0.49827163470668
         ],
         "b": [
          0.2821898591758208
         ],
         "c": [
          0.229897345434678
         ],
         "hovertemplate": "Category=Science<br>Title=Opticks (1704)<br>Religion=%{a}<br>Political Economy=%{b}<br>Science=%{c}<extra></extra>",
         "legendgroup": "Science, Opticks (1704)",
         "marker": {
          "color": "#EF553B",
          "symbol": "cross"
         },
         "mode": "markers",
         "name": "Science, Opticks (1704)",
         "showlegend": true,
         "subplot": "ternary",
         "type": "scatterternary"
        },
        {
         "a": [
          0.1346039277066189
         ],
         "b": [
          0.4700754707488976
         ],
         "c": [
          0.3779612981346938
         ],
         "hovertemplate": "Category=Science<br>Title=Origin of Species (1859)<br>Religion=%{a}<br>Political Economy=%{b}<br>Science=%{c}<extra></extra>",
         "legendgroup": "Science, Origin of Species (1859)",
         "marker": {
          "color": "#EF553B",
          "symbol": "circle"
         },
         "mode": "markers",
         "name": "Science, Origin of Species (1859)",
         "showlegend": true,
         "subplot": "ternary",
         "type": "scatterternary"
        },
        {
         "a": [
          0.7809554078211738
         ],
         "b": [
          0.1220564926725266
         ],
         "c": [
          0.096988099506299
         ],
         "hovertemplate": "Category=Science<br>Title=Philosophiae naturalis principia mathematica (1687)<br>Religion=%{a}<br>Political Economy=%{b}<br>Science=%{c}<extra></extra>",
         "legendgroup": "Science, Philosophiae naturalis principia mathematica (1687)",
         "marker": {
          "color": "#EF553B",
          "symbol": "diamond"
         },
         "mode": "markers",
         "name": "Science, Philosophiae naturalis principia mathematica (1687)",
         "showlegend": true,
         "subplot": "ternary",
         "type": "scatterternary"
        },
        {
         "a": [
          0.6478585239501687
         ],
         "b": [
          0.3504425869953302
         ],
         "c": [
          0.0409471101542821
         ],
         "hovertemplate": "Category=Religion<br>Title=Paradise Lost (1667)<br>Religion=%{a}<br>Political Economy=%{b}<br>Science=%{c}<extra></extra>",
         "legendgroup": "Religion, Paradise Lost (1667)",
         "marker": {
          "color": "#00cc96",
          "symbol": "square"
         },
         "mode": "markers",
         "name": "Religion, Paradise Lost (1667)",
         "showlegend": true,
         "subplot": "ternary",
         "type": "scatterternary"
        },
        {
         "a": [
          0.5912042088022896
         ],
         "b": [
          0.3877100225466399
         ],
         "c": [
          0.0324720864380632
         ],
         "hovertemplate": "Category=Religion<br>Title=Sermon's on Several Occasions (1746)<br>Religion=%{a}<br>Political Economy=%{b}<br>Science=%{c}<extra></extra>",
         "legendgroup": "Religion, Sermon's on Several Occasions (1746)",
         "marker": {
          "color": "#00cc96",
          "symbol": "cross"
         },
         "mode": "markers",
         "name": "Religion, Sermon's on Several Occasions (1746)",
         "showlegend": true,
         "subplot": "ternary",
         "type": "scatterternary"
        },
        {
         "a": [
          0.5796903044138096
         ],
         "b": [
          0.3567824332260894
         ],
         "c": [
          0.0292764571947997
         ],
         "hovertemplate": "Category=Religion<br>Title=The Book of Mormon (1841)<br>Religion=%{a}<br>Political Economy=%{b}<br>Science=%{c}<extra></extra>",
         "legendgroup": "Religion, The Book of Mormon (1841)",
         "marker": {
          "color": "#00cc96",
          "symbol": "circle"
         },
         "mode": "markers",
         "name": "Religion, The Book of Mormon (1841)",
         "showlegend": true,
         "subplot": "ternary",
         "type": "scatterternary"
        },
        {
         "a": [
          0.583874837387355
         ],
         "b": [
          0.392109582765721
         ],
         "c": [
          0.0512255659862767
         ],
         "hovertemplate": "Category=Religion<br>Title=The Pilgrim's Progress (1678)<br>Religion=%{a}<br>Political Economy=%{b}<br>Science=%{c}<extra></extra>",
         "legendgroup": "Religion, The Pilgrim's Progress (1678)",
         "marker": {
          "color": "#00cc96",
          "symbol": "square"
         },
         "mode": "markers",
         "name": "Religion, The Pilgrim's Progress (1678)",
         "showlegend": true,
         "subplot": "ternary",
         "type": "scatterternary"
        }
       ],
       "layout": {
        "legend": {
         "title": {
          "text": "Category, Title"
         },
         "tracegroupgap": 0
        },
        "margin": {
         "t": 60
        },
        "template": {
         "data": {
          "bar": [
           {
            "error_x": {
             "color": "#2a3f5f"
            },
            "error_y": {
             "color": "#2a3f5f"
            },
            "marker": {
             "line": {
              "color": "#E5ECF6",
              "width": 0.5
             },
             "pattern": {
              "fillmode": "overlay",
              "size": 10,
              "solidity": 0.2
             }
            },
            "type": "bar"
           }
          ],
          "barpolar": [
           {
            "marker": {
             "line": {
              "color": "#E5ECF6",
              "width": 0.5
             },
             "pattern": {
              "fillmode": "overlay",
              "size": 10,
              "solidity": 0.2
             }
            },
            "type": "barpolar"
           }
          ],
          "carpet": [
           {
            "aaxis": {
             "endlinecolor": "#2a3f5f",
             "gridcolor": "white",
             "linecolor": "white",
             "minorgridcolor": "white",
             "startlinecolor": "#2a3f5f"
            },
            "baxis": {
             "endlinecolor": "#2a3f5f",
             "gridcolor": "white",
             "linecolor": "white",
             "minorgridcolor": "white",
             "startlinecolor": "#2a3f5f"
            },
            "type": "carpet"
           }
          ],
          "choropleth": [
           {
            "colorbar": {
             "outlinewidth": 0,
             "ticks": ""
            },
            "type": "choropleth"
           }
          ],
          "contour": [
           {
            "colorbar": {
             "outlinewidth": 0,
             "ticks": ""
            },
            "colorscale": [
             [
              0,
              "#0d0887"
             ],
             [
              0.1111111111111111,
              "#46039f"
             ],
             [
              0.2222222222222222,
              "#7201a8"
             ],
             [
              0.3333333333333333,
              "#9c179e"
             ],
             [
              0.4444444444444444,
              "#bd3786"
             ],
             [
              0.5555555555555556,
              "#d8576b"
             ],
             [
              0.6666666666666666,
              "#ed7953"
             ],
             [
              0.7777777777777778,
              "#fb9f3a"
             ],
             [
              0.8888888888888888,
              "#fdca26"
             ],
             [
              1,
              "#f0f921"
             ]
            ],
            "type": "contour"
           }
          ],
          "contourcarpet": [
           {
            "colorbar": {
             "outlinewidth": 0,
             "ticks": ""
            },
            "type": "contourcarpet"
           }
          ],
          "heatmap": [
           {
            "colorbar": {
             "outlinewidth": 0,
             "ticks": ""
            },
            "colorscale": [
             [
              0,
              "#0d0887"
             ],
             [
              0.1111111111111111,
              "#46039f"
             ],
             [
              0.2222222222222222,
              "#7201a8"
             ],
             [
              0.3333333333333333,
              "#9c179e"
             ],
             [
              0.4444444444444444,
              "#bd3786"
             ],
             [
              0.5555555555555556,
              "#d8576b"
             ],
             [
              0.6666666666666666,
              "#ed7953"
             ],
             [
              0.7777777777777778,
              "#fb9f3a"
             ],
             [
              0.8888888888888888,
              "#fdca26"
             ],
             [
              1,
              "#f0f921"
             ]
            ],
            "type": "heatmap"
           }
          ],
          "heatmapgl": [
           {
            "colorbar": {
             "outlinewidth": 0,
             "ticks": ""
            },
            "colorscale": [
             [
              0,
              "#0d0887"
             ],
             [
              0.1111111111111111,
              "#46039f"
             ],
             [
              0.2222222222222222,
              "#7201a8"
             ],
             [
              0.3333333333333333,
              "#9c179e"
             ],
             [
              0.4444444444444444,
              "#bd3786"
             ],
             [
              0.5555555555555556,
              "#d8576b"
             ],
             [
              0.6666666666666666,
              "#ed7953"
             ],
             [
              0.7777777777777778,
              "#fb9f3a"
             ],
             [
              0.8888888888888888,
              "#fdca26"
             ],
             [
              1,
              "#f0f921"
             ]
            ],
            "type": "heatmapgl"
           }
          ],
          "histogram": [
           {
            "marker": {
             "pattern": {
              "fillmode": "overlay",
              "size": 10,
              "solidity": 0.2
             }
            },
            "type": "histogram"
           }
          ],
          "histogram2d": [
           {
            "colorbar": {
             "outlinewidth": 0,
             "ticks": ""
            },
            "colorscale": [
             [
              0,
              "#0d0887"
             ],
             [
              0.1111111111111111,
              "#46039f"
             ],
             [
              0.2222222222222222,
              "#7201a8"
             ],
             [
              0.3333333333333333,
              "#9c179e"
             ],
             [
              0.4444444444444444,
              "#bd3786"
             ],
             [
              0.5555555555555556,
              "#d8576b"
             ],
             [
              0.6666666666666666,
              "#ed7953"
             ],
             [
              0.7777777777777778,
              "#fb9f3a"
             ],
             [
              0.8888888888888888,
              "#fdca26"
             ],
             [
              1,
              "#f0f921"
             ]
            ],
            "type": "histogram2d"
           }
          ],
          "histogram2dcontour": [
           {
            "colorbar": {
             "outlinewidth": 0,
             "ticks": ""
            },
            "colorscale": [
             [
              0,
              "#0d0887"
             ],
             [
              0.1111111111111111,
              "#46039f"
             ],
             [
              0.2222222222222222,
              "#7201a8"
             ],
             [
              0.3333333333333333,
              "#9c179e"
             ],
             [
              0.4444444444444444,
              "#bd3786"
             ],
             [
              0.5555555555555556,
              "#d8576b"
             ],
             [
              0.6666666666666666,
              "#ed7953"
             ],
             [
              0.7777777777777778,
              "#fb9f3a"
             ],
             [
              0.8888888888888888,
              "#fdca26"
             ],
             [
              1,
              "#f0f921"
             ]
            ],
            "type": "histogram2dcontour"
           }
          ],
          "mesh3d": [
           {
            "colorbar": {
             "outlinewidth": 0,
             "ticks": ""
            },
            "type": "mesh3d"
           }
          ],
          "parcoords": [
           {
            "line": {
             "colorbar": {
              "outlinewidth": 0,
              "ticks": ""
             }
            },
            "type": "parcoords"
           }
          ],
          "pie": [
           {
            "automargin": true,
            "type": "pie"
           }
          ],
          "scatter": [
           {
            "fillpattern": {
             "fillmode": "overlay",
             "size": 10,
             "solidity": 0.2
            },
            "type": "scatter"
           }
          ],
          "scatter3d": [
           {
            "line": {
             "colorbar": {
              "outlinewidth": 0,
              "ticks": ""
             }
            },
            "marker": {
             "colorbar": {
              "outlinewidth": 0,
              "ticks": ""
             }
            },
            "type": "scatter3d"
           }
          ],
          "scattercarpet": [
           {
            "marker": {
             "colorbar": {
              "outlinewidth": 0,
              "ticks": ""
             }
            },
            "type": "scattercarpet"
           }
          ],
          "scattergeo": [
           {
            "marker": {
             "colorbar": {
              "outlinewidth": 0,
              "ticks": ""
             }
            },
            "type": "scattergeo"
           }
          ],
          "scattergl": [
           {
            "marker": {
             "colorbar": {
              "outlinewidth": 0,
              "ticks": ""
             }
            },
            "type": "scattergl"
           }
          ],
          "scattermapbox": [
           {
            "marker": {
             "colorbar": {
              "outlinewidth": 0,
              "ticks": ""
             }
            },
            "type": "scattermapbox"
           }
          ],
          "scatterpolar": [
           {
            "marker": {
             "colorbar": {
              "outlinewidth": 0,
              "ticks": ""
             }
            },
            "type": "scatterpolar"
           }
          ],
          "scatterpolargl": [
           {
            "marker": {
             "colorbar": {
              "outlinewidth": 0,
              "ticks": ""
             }
            },
            "type": "scatterpolargl"
           }
          ],
          "scatterternary": [
           {
            "marker": {
             "colorbar": {
              "outlinewidth": 0,
              "ticks": ""
             }
            },
            "type": "scatterternary"
           }
          ],
          "surface": [
           {
            "colorbar": {
             "outlinewidth": 0,
             "ticks": ""
            },
            "colorscale": [
             [
              0,
              "#0d0887"
             ],
             [
              0.1111111111111111,
              "#46039f"
             ],
             [
              0.2222222222222222,
              "#7201a8"
             ],
             [
              0.3333333333333333,
              "#9c179e"
             ],
             [
              0.4444444444444444,
              "#bd3786"
             ],
             [
              0.5555555555555556,
              "#d8576b"
             ],
             [
              0.6666666666666666,
              "#ed7953"
             ],
             [
              0.7777777777777778,
              "#fb9f3a"
             ],
             [
              0.8888888888888888,
              "#fdca26"
             ],
             [
              1,
              "#f0f921"
             ]
            ],
            "type": "surface"
           }
          ],
          "table": [
           {
            "cells": {
             "fill": {
              "color": "#EBF0F8"
             },
             "line": {
              "color": "white"
             }
            },
            "header": {
             "fill": {
              "color": "#C8D4E3"
             },
             "line": {
              "color": "white"
             }
            },
            "type": "table"
           }
          ]
         },
         "layout": {
          "annotationdefaults": {
           "arrowcolor": "#2a3f5f",
           "arrowhead": 0,
           "arrowwidth": 1
          },
          "autotypenumbers": "strict",
          "coloraxis": {
           "colorbar": {
            "outlinewidth": 0,
            "ticks": ""
           }
          },
          "colorscale": {
           "diverging": [
            [
             0,
             "#8e0152"
            ],
            [
             0.1,
             "#c51b7d"
            ],
            [
             0.2,
             "#de77ae"
            ],
            [
             0.3,
             "#f1b6da"
            ],
            [
             0.4,
             "#fde0ef"
            ],
            [
             0.5,
             "#f7f7f7"
            ],
            [
             0.6,
             "#e6f5d0"
            ],
            [
             0.7,
             "#b8e186"
            ],
            [
             0.8,
             "#7fbc41"
            ],
            [
             0.9,
             "#4d9221"
            ],
            [
             1,
             "#276419"
            ]
           ],
           "sequential": [
            [
             0,
             "#0d0887"
            ],
            [
             0.1111111111111111,
             "#46039f"
            ],
            [
             0.2222222222222222,
             "#7201a8"
            ],
            [
             0.3333333333333333,
             "#9c179e"
            ],
            [
             0.4444444444444444,
             "#bd3786"
            ],
            [
             0.5555555555555556,
             "#d8576b"
            ],
            [
             0.6666666666666666,
             "#ed7953"
            ],
            [
             0.7777777777777778,
             "#fb9f3a"
            ],
            [
             0.8888888888888888,
             "#fdca26"
            ],
            [
             1,
             "#f0f921"
            ]
           ],
           "sequentialminus": [
            [
             0,
             "#0d0887"
            ],
            [
             0.1111111111111111,
             "#46039f"
            ],
            [
             0.2222222222222222,
             "#7201a8"
            ],
            [
             0.3333333333333333,
             "#9c179e"
            ],
            [
             0.4444444444444444,
             "#bd3786"
            ],
            [
             0.5555555555555556,
             "#d8576b"
            ],
            [
             0.6666666666666666,
             "#ed7953"
            ],
            [
             0.7777777777777778,
             "#fb9f3a"
            ],
            [
             0.8888888888888888,
             "#fdca26"
            ],
            [
             1,
             "#f0f921"
            ]
           ]
          },
          "colorway": [
           "#636efa",
           "#EF553B",
           "#00cc96",
           "#ab63fa",
           "#FFA15A",
           "#19d3f3",
           "#FF6692",
           "#B6E880",
           "#FF97FF",
           "#FECB52"
          ],
          "font": {
           "color": "#2a3f5f"
          },
          "geo": {
           "bgcolor": "white",
           "lakecolor": "white",
           "landcolor": "#E5ECF6",
           "showlakes": true,
           "showland": true,
           "subunitcolor": "white"
          },
          "hoverlabel": {
           "align": "left"
          },
          "hovermode": "closest",
          "mapbox": {
           "style": "light"
          },
          "paper_bgcolor": "white",
          "plot_bgcolor": "#E5ECF6",
          "polar": {
           "angularaxis": {
            "gridcolor": "white",
            "linecolor": "white",
            "ticks": ""
           },
           "bgcolor": "#E5ECF6",
           "radialaxis": {
            "gridcolor": "white",
            "linecolor": "white",
            "ticks": ""
           }
          },
          "scene": {
           "xaxis": {
            "backgroundcolor": "#E5ECF6",
            "gridcolor": "white",
            "gridwidth": 2,
            "linecolor": "white",
            "showbackground": true,
            "ticks": "",
            "zerolinecolor": "white"
           },
           "yaxis": {
            "backgroundcolor": "#E5ECF6",
            "gridcolor": "white",
            "gridwidth": 2,
            "linecolor": "white",
            "showbackground": true,
            "ticks": "",
            "zerolinecolor": "white"
           },
           "zaxis": {
            "backgroundcolor": "#E5ECF6",
            "gridcolor": "white",
            "gridwidth": 2,
            "linecolor": "white",
            "showbackground": true,
            "ticks": "",
            "zerolinecolor": "white"
           }
          },
          "shapedefaults": {
           "line": {
            "color": "#2a3f5f"
           }
          },
          "ternary": {
           "aaxis": {
            "gridcolor": "white",
            "linecolor": "white",
            "ticks": ""
           },
           "baxis": {
            "gridcolor": "white",
            "linecolor": "white",
            "ticks": ""
           },
           "bgcolor": "#E5ECF6",
           "caxis": {
            "gridcolor": "white",
            "linecolor": "white",
            "ticks": ""
           }
          },
          "title": {
           "x": 0.05
          },
          "xaxis": {
           "automargin": true,
           "gridcolor": "white",
           "linecolor": "white",
           "ticks": "",
           "title": {
            "standoff": 15
           },
           "zerolinecolor": "white",
           "zerolinewidth": 2
          },
          "yaxis": {
           "automargin": true,
           "gridcolor": "white",
           "linecolor": "white",
           "ticks": "",
           "title": {
            "standoff": 15
           },
           "zerolinecolor": "white",
           "zerolinewidth": 2
          }
         }
        },
        "ternary": {
         "aaxis": {
          "title": {
           "text": "Religion"
          }
         },
         "baxis": {
          "title": {
           "text": "Political Economy"
          }
         },
         "caxis": {
          "title": {
           "text": "Science"
          }
         },
         "domain": {
          "x": [
           0,
           1
          ],
          "y": [
           0,
           1
          ]
         }
        }
       }
      }
     },
     "metadata": {},
     "output_type": "display_data"
    }
   ],
   "source": [
    "#make figure\n",
    "fig = px.scatter_ternary(famous_selected, a = 'Religion', b = 'Political Economy', c = 'Science',\n",
    "                         color = 'Category',\n",
    "                         symbol='Title',\n",
    "                         symbol_sequence = ['circle', 'square', 'diamond', 'cross']\n",
    "                         )\n",
    "\n",
    "# for _, row in famous_selected.iterrows():\n",
    "#     fig.add_trace(\n",
    "#         go.Scatterternary(\n",
    "#         a=[None],\n",
    "#         b=[None],\n",
    "#         c=[None],\n",
    "#         mode='markers',\n",
    "#         marker=dict(\n",
    "#             color=row['Category'],\n",
    "#             symbol=row['symbol']\n",
    "#         ),\n",
    "#         name=row['Title'],\n",
    "#         showlegend=True,\n",
    "#         visible='legendonly'  # Hide these traces, but show them in the legend\n",
    "#     )\n",
    "# )\n",
    "\n",
    "fig.show()"
   ]
  },
  {
   "cell_type": "code",
   "execution_count": 54,
   "metadata": {},
   "outputs": [
    {
     "ename": "ValueError",
     "evalue": "\n    Invalid value of type 'builtins.str' received for the 'color' property of scatterternary.marker\n        Received value: 'Political Economy'\n\n    The 'color' property is a color and may be specified as:\n      - A hex string (e.g. '#ff0000')\n      - An rgb/rgba string (e.g. 'rgb(255,0,0)')\n      - An hsl/hsla string (e.g. 'hsl(0,100%,50%)')\n      - An hsv/hsva string (e.g. 'hsv(0,100%,100%)')\n      - A named CSS color:\n            aliceblue, antiquewhite, aqua, aquamarine, azure,\n            beige, bisque, black, blanchedalmond, blue,\n            blueviolet, brown, burlywood, cadetblue,\n            chartreuse, chocolate, coral, cornflowerblue,\n            cornsilk, crimson, cyan, darkblue, darkcyan,\n            darkgoldenrod, darkgray, darkgrey, darkgreen,\n            darkkhaki, darkmagenta, darkolivegreen, darkorange,\n            darkorchid, darkred, darksalmon, darkseagreen,\n            darkslateblue, darkslategray, darkslategrey,\n            darkturquoise, darkviolet, deeppink, deepskyblue,\n            dimgray, dimgrey, dodgerblue, firebrick,\n            floralwhite, forestgreen, fuchsia, gainsboro,\n            ghostwhite, gold, goldenrod, gray, grey, green,\n            greenyellow, honeydew, hotpink, indianred, indigo,\n            ivory, khaki, lavender, lavenderblush, lawngreen,\n            lemonchiffon, lightblue, lightcoral, lightcyan,\n            lightgoldenrodyellow, lightgray, lightgrey,\n            lightgreen, lightpink, lightsalmon, lightseagreen,\n            lightskyblue, lightslategray, lightslategrey,\n            lightsteelblue, lightyellow, lime, limegreen,\n            linen, magenta, maroon, mediumaquamarine,\n            mediumblue, mediumorchid, mediumpurple,\n            mediumseagreen, mediumslateblue, mediumspringgreen,\n            mediumturquoise, mediumvioletred, midnightblue,\n            mintcream, mistyrose, moccasin, navajowhite, navy,\n            oldlace, olive, olivedrab, orange, orangered,\n            orchid, palegoldenrod, palegreen, paleturquoise,\n            palevioletred, papayawhip, peachpuff, peru, pink,\n            plum, powderblue, purple, red, rosybrown,\n            royalblue, rebeccapurple, saddlebrown, salmon,\n            sandybrown, seagreen, seashell, sienna, silver,\n            skyblue, slateblue, slategray, slategrey, snow,\n            springgreen, steelblue, tan, teal, thistle, tomato,\n            turquoise, violet, wheat, white, whitesmoke,\n            yellow, yellowgreen\n      - A number that will be interpreted as a color\n        according to scatterternary.marker.colorscale\n      - A list or array of any of the above",
     "output_type": "error",
     "traceback": [
      "\u001b[0;31m---------------------------------------------------------------------------\u001b[0m",
      "\u001b[0;31mValueError\u001b[0m                                Traceback (most recent call last)",
      "Cell \u001b[0;32mIn[54], line 7\u001b[0m\n\u001b[1;32m      4\u001b[0m \u001b[39m# Loop through the data and add custom invisible traces for legend entries\u001b[39;00m\n\u001b[1;32m      5\u001b[0m \u001b[39mfor\u001b[39;00m _, row \u001b[39min\u001b[39;00m famous_selected\u001b[39m.\u001b[39miterrows():\n\u001b[1;32m      6\u001b[0m     fig\u001b[39m.\u001b[39madd_trace(\n\u001b[0;32m----> 7\u001b[0m         go\u001b[39m.\u001b[39;49mScatterternary(\n\u001b[1;32m      8\u001b[0m             a\u001b[39m=\u001b[39;49m[\u001b[39mNone\u001b[39;49;00m],\n\u001b[1;32m      9\u001b[0m             b\u001b[39m=\u001b[39;49m[\u001b[39mNone\u001b[39;49;00m],\n\u001b[1;32m     10\u001b[0m             c\u001b[39m=\u001b[39;49m[\u001b[39mNone\u001b[39;49;00m],\n\u001b[1;32m     11\u001b[0m             mode\u001b[39m=\u001b[39;49m\u001b[39m'\u001b[39;49m\u001b[39mmarkers\u001b[39;49m\u001b[39m'\u001b[39;49m,\n\u001b[1;32m     12\u001b[0m             marker\u001b[39m=\u001b[39;49m\u001b[39mdict\u001b[39;49m(\n\u001b[1;32m     13\u001b[0m                 color\u001b[39m=\u001b[39;49mrow[\u001b[39m'\u001b[39;49m\u001b[39mCategory\u001b[39;49m\u001b[39m'\u001b[39;49m],\n\u001b[1;32m     14\u001b[0m                 symbol\u001b[39m=\u001b[39;49mrow[\u001b[39m'\u001b[39;49m\u001b[39msymbol\u001b[39;49m\u001b[39m'\u001b[39;49m]\n\u001b[1;32m     15\u001b[0m             ),\n\u001b[1;32m     16\u001b[0m             name\u001b[39m=\u001b[39;49mrow[\u001b[39m'\u001b[39;49m\u001b[39mTitle\u001b[39;49m\u001b[39m'\u001b[39;49m],\n\u001b[1;32m     17\u001b[0m             legendgroup\u001b[39m=\u001b[39;49mrow[\u001b[39m'\u001b[39;49m\u001b[39mTitle\u001b[39;49m\u001b[39m'\u001b[39;49m],\n\u001b[1;32m     18\u001b[0m             showlegend\u001b[39m=\u001b[39;49m\u001b[39mTrue\u001b[39;49;00m,\n\u001b[1;32m     19\u001b[0m             visible\u001b[39m=\u001b[39;49m\u001b[39m'\u001b[39;49m\u001b[39mlegendonly\u001b[39;49m\u001b[39m'\u001b[39;49m  \u001b[39m# Hide these traces, but show them in the legend\u001b[39;49;00m\n\u001b[1;32m     20\u001b[0m         )\n\u001b[1;32m     21\u001b[0m     )\n\u001b[1;32m     23\u001b[0m \u001b[39m# Loop through the data again and add visible ternary scatter points\u001b[39;00m\n\u001b[1;32m     24\u001b[0m \u001b[39mfor\u001b[39;00m _, row \u001b[39min\u001b[39;00m famous_selected\u001b[39m.\u001b[39miterrows():\n",
      "File \u001b[0;32m~/Desktop/grad_school/research/Hathitrust/.venv/lib/python3.8/site-packages/plotly/graph_objs/_scatterternary.py:2342\u001b[0m, in \u001b[0;36mScatterternary.__init__\u001b[0;34m(self, arg, a, asrc, b, bsrc, c, cliponaxis, connectgaps, csrc, customdata, customdatasrc, fill, fillcolor, hoverinfo, hoverinfosrc, hoverlabel, hoveron, hovertemplate, hovertemplatesrc, hovertext, hovertextsrc, ids, idssrc, legendgroup, legendgrouptitle, legendrank, legendwidth, line, marker, meta, metasrc, mode, name, opacity, selected, selectedpoints, showlegend, stream, subplot, sum, text, textfont, textposition, textpositionsrc, textsrc, texttemplate, texttemplatesrc, uid, uirevision, unselected, visible, **kwargs)\u001b[0m\n\u001b[1;32m   2340\u001b[0m _v \u001b[39m=\u001b[39m marker \u001b[39mif\u001b[39;00m marker \u001b[39mis\u001b[39;00m \u001b[39mnot\u001b[39;00m \u001b[39mNone\u001b[39;00m \u001b[39melse\u001b[39;00m _v\n\u001b[1;32m   2341\u001b[0m \u001b[39mif\u001b[39;00m _v \u001b[39mis\u001b[39;00m \u001b[39mnot\u001b[39;00m \u001b[39mNone\u001b[39;00m:\n\u001b[0;32m-> 2342\u001b[0m     \u001b[39mself\u001b[39;49m[\u001b[39m\"\u001b[39;49m\u001b[39mmarker\u001b[39;49m\u001b[39m\"\u001b[39;49m] \u001b[39m=\u001b[39m _v\n\u001b[1;32m   2343\u001b[0m _v \u001b[39m=\u001b[39m arg\u001b[39m.\u001b[39mpop(\u001b[39m\"\u001b[39m\u001b[39mmeta\u001b[39m\u001b[39m\"\u001b[39m, \u001b[39mNone\u001b[39;00m)\n\u001b[1;32m   2344\u001b[0m _v \u001b[39m=\u001b[39m meta \u001b[39mif\u001b[39;00m meta \u001b[39mis\u001b[39;00m \u001b[39mnot\u001b[39;00m \u001b[39mNone\u001b[39;00m \u001b[39melse\u001b[39;00m _v\n",
      "File \u001b[0;32m~/Desktop/grad_school/research/Hathitrust/.venv/lib/python3.8/site-packages/plotly/basedatatypes.py:4843\u001b[0m, in \u001b[0;36mBasePlotlyType.__setitem__\u001b[0;34m(self, prop, value)\u001b[0m\n\u001b[1;32m   4841\u001b[0m \u001b[39m# ### Handle compound property ###\u001b[39;00m\n\u001b[1;32m   4842\u001b[0m \u001b[39mif\u001b[39;00m \u001b[39misinstance\u001b[39m(validator, CompoundValidator):\n\u001b[0;32m-> 4843\u001b[0m     \u001b[39mself\u001b[39;49m\u001b[39m.\u001b[39;49m_set_compound_prop(prop, value)\n\u001b[1;32m   4845\u001b[0m \u001b[39m# ### Handle compound array property ###\u001b[39;00m\n\u001b[1;32m   4846\u001b[0m \u001b[39melif\u001b[39;00m \u001b[39misinstance\u001b[39m(validator, (CompoundArrayValidator, BaseDataValidator)):\n",
      "File \u001b[0;32m~/Desktop/grad_school/research/Hathitrust/.venv/lib/python3.8/site-packages/plotly/basedatatypes.py:5254\u001b[0m, in \u001b[0;36mBasePlotlyType._set_compound_prop\u001b[0;34m(self, prop, val)\u001b[0m\n\u001b[1;32m   5251\u001b[0m \u001b[39m# Import value\u001b[39;00m\n\u001b[1;32m   5252\u001b[0m \u001b[39m# ------------\u001b[39;00m\n\u001b[1;32m   5253\u001b[0m validator \u001b[39m=\u001b[39m \u001b[39mself\u001b[39m\u001b[39m.\u001b[39m_get_validator(prop)\n\u001b[0;32m-> 5254\u001b[0m val \u001b[39m=\u001b[39m validator\u001b[39m.\u001b[39;49mvalidate_coerce(val, skip_invalid\u001b[39m=\u001b[39;49m\u001b[39mself\u001b[39;49m\u001b[39m.\u001b[39;49m_skip_invalid)\n\u001b[1;32m   5256\u001b[0m \u001b[39m# Save deep copies of current and new states\u001b[39;00m\n\u001b[1;32m   5257\u001b[0m \u001b[39m# ------------------------------------------\u001b[39;00m\n\u001b[1;32m   5258\u001b[0m curr_val \u001b[39m=\u001b[39m \u001b[39mself\u001b[39m\u001b[39m.\u001b[39m_compound_props\u001b[39m.\u001b[39mget(prop, \u001b[39mNone\u001b[39;00m)\n",
      "File \u001b[0;32m~/Desktop/grad_school/research/Hathitrust/.venv/lib/python3.8/site-packages/_plotly_utils/basevalidators.py:2476\u001b[0m, in \u001b[0;36mCompoundValidator.validate_coerce\u001b[0;34m(self, v, skip_invalid, _validate)\u001b[0m\n\u001b[1;32m   2473\u001b[0m     v \u001b[39m=\u001b[39m \u001b[39mself\u001b[39m\u001b[39m.\u001b[39mdata_class()\n\u001b[1;32m   2475\u001b[0m \u001b[39melif\u001b[39;00m \u001b[39misinstance\u001b[39m(v, \u001b[39mdict\u001b[39m):\n\u001b[0;32m-> 2476\u001b[0m     v \u001b[39m=\u001b[39m \u001b[39mself\u001b[39;49m\u001b[39m.\u001b[39;49mdata_class(v, skip_invalid\u001b[39m=\u001b[39;49mskip_invalid, _validate\u001b[39m=\u001b[39;49m_validate)\n\u001b[1;32m   2478\u001b[0m \u001b[39melif\u001b[39;00m \u001b[39misinstance\u001b[39m(v, \u001b[39mself\u001b[39m\u001b[39m.\u001b[39mdata_class):\n\u001b[1;32m   2479\u001b[0m     \u001b[39m# Copy object\u001b[39;00m\n\u001b[1;32m   2480\u001b[0m     v \u001b[39m=\u001b[39m \u001b[39mself\u001b[39m\u001b[39m.\u001b[39mdata_class(v)\n",
      "File \u001b[0;32m~/Desktop/grad_school/research/Hathitrust/.venv/lib/python3.8/site-packages/plotly/graph_objs/scatterternary/_marker.py:1596\u001b[0m, in \u001b[0;36mMarker.__init__\u001b[0;34m(self, arg, angle, angleref, anglesrc, autocolorscale, cauto, cmax, cmid, cmin, color, coloraxis, colorbar, colorscale, colorsrc, gradient, line, maxdisplayed, opacity, opacitysrc, reversescale, showscale, size, sizemin, sizemode, sizeref, sizesrc, standoff, standoffsrc, symbol, symbolsrc, **kwargs)\u001b[0m\n\u001b[1;32m   1594\u001b[0m _v \u001b[39m=\u001b[39m color \u001b[39mif\u001b[39;00m color \u001b[39mis\u001b[39;00m \u001b[39mnot\u001b[39;00m \u001b[39mNone\u001b[39;00m \u001b[39melse\u001b[39;00m _v\n\u001b[1;32m   1595\u001b[0m \u001b[39mif\u001b[39;00m _v \u001b[39mis\u001b[39;00m \u001b[39mnot\u001b[39;00m \u001b[39mNone\u001b[39;00m:\n\u001b[0;32m-> 1596\u001b[0m     \u001b[39mself\u001b[39;49m[\u001b[39m\"\u001b[39;49m\u001b[39mcolor\u001b[39;49m\u001b[39m\"\u001b[39;49m] \u001b[39m=\u001b[39m _v\n\u001b[1;32m   1597\u001b[0m _v \u001b[39m=\u001b[39m arg\u001b[39m.\u001b[39mpop(\u001b[39m\"\u001b[39m\u001b[39mcoloraxis\u001b[39m\u001b[39m\"\u001b[39m, \u001b[39mNone\u001b[39;00m)\n\u001b[1;32m   1598\u001b[0m _v \u001b[39m=\u001b[39m coloraxis \u001b[39mif\u001b[39;00m coloraxis \u001b[39mis\u001b[39;00m \u001b[39mnot\u001b[39;00m \u001b[39mNone\u001b[39;00m \u001b[39melse\u001b[39;00m _v\n",
      "File \u001b[0;32m~/Desktop/grad_school/research/Hathitrust/.venv/lib/python3.8/site-packages/plotly/basedatatypes.py:4851\u001b[0m, in \u001b[0;36mBasePlotlyType.__setitem__\u001b[0;34m(self, prop, value)\u001b[0m\n\u001b[1;32m   4847\u001b[0m         \u001b[39mself\u001b[39m\u001b[39m.\u001b[39m_set_array_prop(prop, value)\n\u001b[1;32m   4849\u001b[0m     \u001b[39m# ### Handle simple property ###\u001b[39;00m\n\u001b[1;32m   4850\u001b[0m     \u001b[39melse\u001b[39;00m:\n\u001b[0;32m-> 4851\u001b[0m         \u001b[39mself\u001b[39;49m\u001b[39m.\u001b[39;49m_set_prop(prop, value)\n\u001b[1;32m   4852\u001b[0m \u001b[39melse\u001b[39;00m:\n\u001b[1;32m   4853\u001b[0m     \u001b[39m# Make sure properties dict is initialized\u001b[39;00m\n\u001b[1;32m   4854\u001b[0m     \u001b[39mself\u001b[39m\u001b[39m.\u001b[39m_init_props()\n",
      "File \u001b[0;32m~/Desktop/grad_school/research/Hathitrust/.venv/lib/python3.8/site-packages/plotly/basedatatypes.py:5195\u001b[0m, in \u001b[0;36mBasePlotlyType._set_prop\u001b[0;34m(self, prop, val)\u001b[0m\n\u001b[1;32m   5193\u001b[0m         \u001b[39mreturn\u001b[39;00m\n\u001b[1;32m   5194\u001b[0m     \u001b[39melse\u001b[39;00m:\n\u001b[0;32m-> 5195\u001b[0m         \u001b[39mraise\u001b[39;00m err\n\u001b[1;32m   5197\u001b[0m \u001b[39m# val is None\u001b[39;00m\n\u001b[1;32m   5198\u001b[0m \u001b[39m# -----------\u001b[39;00m\n\u001b[1;32m   5199\u001b[0m \u001b[39mif\u001b[39;00m val \u001b[39mis\u001b[39;00m \u001b[39mNone\u001b[39;00m:\n\u001b[1;32m   5200\u001b[0m     \u001b[39m# Check if we should send null update\u001b[39;00m\n",
      "File \u001b[0;32m~/Desktop/grad_school/research/Hathitrust/.venv/lib/python3.8/site-packages/plotly/basedatatypes.py:5190\u001b[0m, in \u001b[0;36mBasePlotlyType._set_prop\u001b[0;34m(self, prop, val)\u001b[0m\n\u001b[1;32m   5187\u001b[0m validator \u001b[39m=\u001b[39m \u001b[39mself\u001b[39m\u001b[39m.\u001b[39m_get_validator(prop)\n\u001b[1;32m   5189\u001b[0m \u001b[39mtry\u001b[39;00m:\n\u001b[0;32m-> 5190\u001b[0m     val \u001b[39m=\u001b[39m validator\u001b[39m.\u001b[39;49mvalidate_coerce(val)\n\u001b[1;32m   5191\u001b[0m \u001b[39mexcept\u001b[39;00m \u001b[39mValueError\u001b[39;00m \u001b[39mas\u001b[39;00m err:\n\u001b[1;32m   5192\u001b[0m     \u001b[39mif\u001b[39;00m \u001b[39mself\u001b[39m\u001b[39m.\u001b[39m_skip_invalid:\n",
      "File \u001b[0;32m~/Desktop/grad_school/research/Hathitrust/.venv/lib/python3.8/site-packages/_plotly_utils/basevalidators.py:1375\u001b[0m, in \u001b[0;36mColorValidator.validate_coerce\u001b[0;34m(self, v, should_raise)\u001b[0m\n\u001b[1;32m   1373\u001b[0m     validated_v \u001b[39m=\u001b[39m \u001b[39mself\u001b[39m\u001b[39m.\u001b[39mvc_scalar(v)\n\u001b[1;32m   1374\u001b[0m     \u001b[39mif\u001b[39;00m validated_v \u001b[39mis\u001b[39;00m \u001b[39mNone\u001b[39;00m \u001b[39mand\u001b[39;00m should_raise:\n\u001b[0;32m-> 1375\u001b[0m         \u001b[39mself\u001b[39;49m\u001b[39m.\u001b[39;49mraise_invalid_val(v)\n\u001b[1;32m   1377\u001b[0m     v \u001b[39m=\u001b[39m validated_v\n\u001b[1;32m   1379\u001b[0m \u001b[39mreturn\u001b[39;00m v\n",
      "File \u001b[0;32m~/Desktop/grad_school/research/Hathitrust/.venv/lib/python3.8/site-packages/_plotly_utils/basevalidators.py:288\u001b[0m, in \u001b[0;36mBaseValidator.raise_invalid_val\u001b[0;34m(self, v, inds)\u001b[0m\n\u001b[1;32m    285\u001b[0m             \u001b[39mfor\u001b[39;00m i \u001b[39min\u001b[39;00m inds:\n\u001b[1;32m    286\u001b[0m                 name \u001b[39m+\u001b[39m\u001b[39m=\u001b[39m \u001b[39m\"\u001b[39m\u001b[39m[\u001b[39m\u001b[39m\"\u001b[39m \u001b[39m+\u001b[39m \u001b[39mstr\u001b[39m(i) \u001b[39m+\u001b[39m \u001b[39m\"\u001b[39m\u001b[39m]\u001b[39m\u001b[39m\"\u001b[39m\n\u001b[0;32m--> 288\u001b[0m         \u001b[39mraise\u001b[39;00m \u001b[39mValueError\u001b[39;00m(\n\u001b[1;32m    289\u001b[0m \u001b[39m            \u001b[39m\u001b[39m\"\"\"\u001b[39;00m\n\u001b[1;32m    290\u001b[0m \u001b[39m    Invalid value of type {typ} received for the '{name}' property of {pname}\u001b[39;00m\n\u001b[1;32m    291\u001b[0m \u001b[39m        Received value: {v}\u001b[39;00m\n\u001b[1;32m    292\u001b[0m \n\u001b[1;32m    293\u001b[0m \u001b[39m{valid_clr_desc}\"\"\"\u001b[39;00m\u001b[39m.\u001b[39mformat(\n\u001b[1;32m    294\u001b[0m                 name\u001b[39m=\u001b[39mname,\n\u001b[1;32m    295\u001b[0m                 pname\u001b[39m=\u001b[39m\u001b[39mself\u001b[39m\u001b[39m.\u001b[39mparent_name,\n\u001b[1;32m    296\u001b[0m                 typ\u001b[39m=\u001b[39mtype_str(v),\n\u001b[1;32m    297\u001b[0m                 v\u001b[39m=\u001b[39m\u001b[39mrepr\u001b[39m(v),\n\u001b[1;32m    298\u001b[0m                 valid_clr_desc\u001b[39m=\u001b[39m\u001b[39mself\u001b[39m\u001b[39m.\u001b[39mdescription(),\n\u001b[1;32m    299\u001b[0m             )\n\u001b[1;32m    300\u001b[0m         )\n",
      "\u001b[0;31mValueError\u001b[0m: \n    Invalid value of type 'builtins.str' received for the 'color' property of scatterternary.marker\n        Received value: 'Political Economy'\n\n    The 'color' property is a color and may be specified as:\n      - A hex string (e.g. '#ff0000')\n      - An rgb/rgba string (e.g. 'rgb(255,0,0)')\n      - An hsl/hsla string (e.g. 'hsl(0,100%,50%)')\n      - An hsv/hsva string (e.g. 'hsv(0,100%,100%)')\n      - A named CSS color:\n            aliceblue, antiquewhite, aqua, aquamarine, azure,\n            beige, bisque, black, blanchedalmond, blue,\n            blueviolet, brown, burlywood, cadetblue,\n            chartreuse, chocolate, coral, cornflowerblue,\n            cornsilk, crimson, cyan, darkblue, darkcyan,\n            darkgoldenrod, darkgray, darkgrey, darkgreen,\n            darkkhaki, darkmagenta, darkolivegreen, darkorange,\n            darkorchid, darkred, darksalmon, darkseagreen,\n            darkslateblue, darkslategray, darkslategrey,\n            darkturquoise, darkviolet, deeppink, deepskyblue,\n            dimgray, dimgrey, dodgerblue, firebrick,\n            floralwhite, forestgreen, fuchsia, gainsboro,\n            ghostwhite, gold, goldenrod, gray, grey, green,\n            greenyellow, honeydew, hotpink, indianred, indigo,\n            ivory, khaki, lavender, lavenderblush, lawngreen,\n            lemonchiffon, lightblue, lightcoral, lightcyan,\n            lightgoldenrodyellow, lightgray, lightgrey,\n            lightgreen, lightpink, lightsalmon, lightseagreen,\n            lightskyblue, lightslategray, lightslategrey,\n            lightsteelblue, lightyellow, lime, limegreen,\n            linen, magenta, maroon, mediumaquamarine,\n            mediumblue, mediumorchid, mediumpurple,\n            mediumseagreen, mediumslateblue, mediumspringgreen,\n            mediumturquoise, mediumvioletred, midnightblue,\n            mintcream, mistyrose, moccasin, navajowhite, navy,\n            oldlace, olive, olivedrab, orange, orangered,\n            orchid, palegoldenrod, palegreen, paleturquoise,\n            palevioletred, papayawhip, peachpuff, peru, pink,\n            plum, powderblue, purple, red, rosybrown,\n            royalblue, rebeccapurple, saddlebrown, salmon,\n            sandybrown, seagreen, seashell, sienna, silver,\n            skyblue, slateblue, slategray, slategrey, snow,\n            springgreen, steelblue, tan, teal, thistle, tomato,\n            turquoise, violet, wheat, white, whitesmoke,\n            yellow, yellowgreen\n      - A number that will be interpreted as a color\n        according to scatterternary.marker.colorscale\n      - A list or array of any of the above"
     ]
    }
   ],
   "source": [
    "\n",
    "# Create a ternary scatter plot using graph_objects\n",
    "fig = go.Figure()\n",
    "\n",
    "# Loop through the data and add custom invisible traces for legend entries\n",
    "for _, row in famous_selected.iterrows():\n",
    "    fig.add_trace(\n",
    "        go.Scatterternary(\n",
    "            a=[None],\n",
    "            b=[None],\n",
    "            c=[None],\n",
    "            mode='markers',\n",
    "            marker=dict(\n",
    "                color=row['Category'],\n",
    "                symbol=row['symbol']\n",
    "            ),\n",
    "            name=row['Title'],\n",
    "            legendgroup=row['Title'],\n",
    "            showlegend=True,\n",
    "            visible='legendonly'  # Hide these traces, but show them in the legend\n",
    "        )\n",
    "    )\n",
    "\n",
    "# Loop through the data again and add visible ternary scatter points\n",
    "for _, row in famous_selected.iterrows():\n",
    "    fig.add_trace(\n",
    "        go.Scatterternary(\n",
    "            a=[row['Religion']],\n",
    "            b=[row['Political Economy']],\n",
    "            c=[row['Science']],\n",
    "            mode='markers',\n",
    "            marker=dict(\n",
    "                color=row['Category'],\n",
    "                symbol=row['symbol']\n",
    "            ),\n",
    "            name=row['Title'],\n",
    "            legendgroup=row['Title']\n",
    "        )\n",
    "    )\n",
    "\n",
    "# Set layout\n",
    "fig.update_layout(\n",
    "    title='Ternary Plot with Custom Legend Entries'\n",
    ")\n",
    "\n",
    "fig.show()"
   ]
  },
  {
   "cell_type": "code",
   "execution_count": 22,
   "metadata": {},
   "outputs": [],
   "source": []
  }
 ],
 "metadata": {
  "kernelspec": {
   "display_name": ".venv",
   "language": "python",
   "name": "python3"
  },
  "language_info": {
   "codemirror_mode": {
    "name": "ipython",
    "version": 3
   },
   "file_extension": ".py",
   "mimetype": "text/x-python",
   "name": "python",
   "nbconvert_exporter": "python",
   "pygments_lexer": "ipython3",
   "version": "3.8.9"
  },
  "orig_nbformat": 4,
  "vscode": {
   "interpreter": {
    "hash": "ae98dba1d8cd6c35d47e99ca019ed4d15103819ca90b0cd49785ea7bc32e6db8"
   }
  }
 },
 "nbformat": 4,
 "nbformat_minor": 2
}
